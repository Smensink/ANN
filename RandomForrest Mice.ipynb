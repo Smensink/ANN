{
 "cells": [
  {
   "cell_type": "code",
   "execution_count": 107,
   "metadata": {},
   "outputs": [],
   "source": [
    "import numpy as np\n",
    "import matplotlib.pyplot as plt\n",
    "import pandas as pd\n",
    "from sklearn.ensemble import RandomForestClassifier\n",
    "from sklearn.svm import SVC\n",
    "dataset = pd.read_csv('csv2.csv', error_bad_lines=False)\n",
    "dataset= dataset.dropna(how = 'any')\n",
    "X = dataset.iloc[:,0:12]\n",
    "Y = dataset.iloc[:,12]\n",
    "\n",
    "from sklearn.model_selection import train_test_split\n",
    "import imblearn.over_sampling\n",
    "X_train, X_test, y_train, y_test = train_test_split(X, Y, test_size = 0.2)"
   ]
  },
  {
   "cell_type": "code",
   "execution_count": 108,
   "metadata": {},
   "outputs": [
    {
     "data": {
      "text/plain": [
       "RandomForestClassifier(bootstrap=True, class_weight=None, criterion='gini',\n",
       "            max_depth=None, max_features='auto', max_leaf_nodes=None,\n",
       "            min_impurity_decrease=0.0, min_impurity_split=None,\n",
       "            min_samples_leaf=1, min_samples_split=2,\n",
       "            min_weight_fraction_leaf=0.0, n_estimators=10, n_jobs=1,\n",
       "            oob_score=False, random_state=None, verbose=0,\n",
       "            warm_start=False)"
      ]
     },
     "execution_count": 108,
     "metadata": {},
     "output_type": "execute_result"
    }
   ],
   "source": [
    "\n",
    "clf = RandomForestClassifier()\n",
    "from imblearn.combine import SMOTEENN\n",
    "sm = SMOTEENN(random_state=0)\n",
    "X_trainr, y_trainr = sm.fit_sample(X_train, y_train)\n",
    "clf.fit(X_trainr, y_trainr)"
   ]
  },
  {
   "cell_type": "code",
   "execution_count": 109,
   "metadata": {},
   "outputs": [
    {
     "data": {
      "text/plain": [
       "array([1, 1, 1, ..., 1, 1, 1])"
      ]
     },
     "execution_count": 109,
     "metadata": {},
     "output_type": "execute_result"
    }
   ],
   "source": [
    "np.array(Y2)\n"
   ]
  },
  {
   "cell_type": "code",
   "execution_count": 110,
   "metadata": {},
   "outputs": [],
   "source": [
    "y_pred = clf.predict(X_test)"
   ]
  },
  {
   "cell_type": "code",
   "execution_count": 111,
   "metadata": {},
   "outputs": [
    {
     "name": "stdout",
     "output_type": "stream",
     "text": [
      "[[ 328   54]\n",
      " [ 284 3259]]\n",
      "             precision    recall  f1-score   support\n",
      "\n",
      "          0       0.54      0.86      0.66       382\n",
      "          1       0.98      0.92      0.95      3543\n",
      "\n",
      "avg / total       0.94      0.91      0.92      3925\n",
      "\n"
     ]
    }
   ],
   "source": [
    "from sklearn.metrics import classification_report, confusion_matrix  \n",
    "print(confusion_matrix(y_test, y_pred))  \n",
    "print(classification_report(y_test, y_pred))"
   ]
  },
  {
   "cell_type": "code",
   "execution_count": 112,
   "metadata": {},
   "outputs": [
    {
     "data": {
      "text/plain": [
       "[('Syllable start time (sec)', 0.029658542042360136),\n",
       " ('Syllable end time (sec)', 0.04345560909940769),\n",
       " ('starting frequency (kHz)', 0.14293046246985877),\n",
       " ('final frequency (kHz)', 0.07790610233024062),\n",
       " ('minimum frequency (kHz)', 0.2831163869082664),\n",
       " ('maximum frequency (kHz)', 0.03361506930425937),\n",
       " ('mean frequency (kHz)', 0.06651890176467465),\n",
       " ('frequency bandwidth (kHz)', 0.09269904852134173),\n",
       " ('syllable duration (msec)', 0.03279176668011119),\n",
       " ('inter-syllable interval (msec)', 0.04737221173900985),\n",
       " ('total syllable energy (dB)', 0.06011188736995998),\n",
       " ('peak syllable amplitude (dB)', 0.08982401177050962)]"
      ]
     },
     "execution_count": 112,
     "metadata": {},
     "output_type": "execute_result"
    }
   ],
   "source": [
    "list(zip(X_train,clf.feature_importances_))"
   ]
  },
  {
   "cell_type": "code",
   "execution_count": 67,
   "metadata": {},
   "outputs": [],
   "source": [
    "import pickle\n",
    "\n",
    "clf = RandomForestClassifier()\n",
    "clf.fit(X_train, y_train)\n",
    "with open('/Users/sebastianmensink/Desktop/MiceClass/Non-NN/randomf', 'wb') as f:\n",
    "    pickle.dump(clf, f)                                                                                                                                                                                                       \n"
   ]
  },
  {
   "cell_type": "code",
   "execution_count": 49,
   "metadata": {},
   "outputs": [],
   "source": [
    "##when reading\n",
    "import pickle\n",
    "with open('/Users/sebastianmensink/Desktop/MiceClass/Non-NN/randomf', 'rb') as f:\n",
    "    clf =pickle.load(f)"
   ]
  },
  {
   "cell_type": "code",
   "execution_count": null,
   "metadata": {},
   "outputs": [],
   "source": []
  }
 ],
 "metadata": {
  "kernelspec": {
   "display_name": "Python 3",
   "language": "python",
   "name": "python3"
  },
  "language_info": {
   "codemirror_mode": {
    "name": "ipython",
    "version": 3
   },
   "file_extension": ".py",
   "mimetype": "text/x-python",
   "name": "python",
   "nbconvert_exporter": "python",
   "pygments_lexer": "ipython3",
   "version": "3.5.5"
  }
 },
 "nbformat": 4,
 "nbformat_minor": 2
}
